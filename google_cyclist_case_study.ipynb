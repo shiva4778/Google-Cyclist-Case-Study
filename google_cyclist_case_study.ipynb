{
  "cells": [
    {
      "cell_type": "markdown",
      "metadata": {
        "id": "view-in-github",
        "colab_type": "text"
      },
      "source": [
        "<a href=\"https://colab.research.google.com/github/shiva4778/Google-Cyclist-Case-Study/blob/main/google_cyclist_case_study.ipynb\" target=\"_parent\"><img src=\"https://colab.research.google.com/assets/colab-badge.svg\" alt=\"Open In Colab\"/></a>"
      ]
    },
    {
      "cell_type": "code",
      "execution_count": 101,
      "metadata": {
        "colab": {
          "base_uri": "https://localhost:8080/"
        },
        "id": "P3egVOWrXkEq",
        "outputId": "e6fe35a3-59e0-4ed7-e746-0f998d33680a"
      },
      "outputs": [
        {
          "output_type": "stream",
          "name": "stdout",
          "text": [
            "Drive already mounted at /content/drive; to attempt to forcibly remount, call drive.mount(\"/content/drive\", force_remount=True).\n"
          ]
        }
      ],
      "source": [
        "import pandas as pd\n",
        "import numpy as np\n",
        "import datetime\n",
        "import matplotlib.pyplot as plt\n",
        "import seaborn as sns\n",
        "from google.colab import drive\n",
        "drive.mount('/content/drive')"
      ]
    },
    {
      "cell_type": "code",
      "execution_count": 102,
      "metadata": {
        "id": "pTt_XVN2poo7"
      },
      "outputs": [],
      "source": [
        "case_file1=pd.read_csv('/content/drive/MyDrive/divvy-trip-data/Copy of 202006-divvy-tripdata-july-2020.csv')\n",
        "case_file2=pd.read_csv('/content/drive/MyDrive/divvy-trip-data/Copy of 202007-divvy-tripdata-august-2020.csv')\n",
        "case_file3=pd.read_csv('/content/drive/MyDrive/divvy-trip-data/Copy of 202008-divvy-tripdata-september-2020.csv')\n",
        "case_file4=pd.read_csv('/content/drive/MyDrive/divvy-trip-data/Copy of 202009-divvy-tripdata-october-2020.csv')\n",
        "case_file5=pd.read_csv('/content/drive/MyDrive/divvy-trip-data/Copy of 202010-divvy-tripdata-november-2020.csv')\n",
        "case_file6=pd.read_csv('/content/drive/MyDrive/divvy-trip-data/Copy of 202011-divvy-tripdata-december-2020.csv')\n",
        "case_file7=pd.read_csv('/content/drive/MyDrive/divvy-trip-data/Copy of 202012-divvy-tripdata-january-2021.csv')\n",
        "case_file8=pd.read_csv('/content/drive/MyDrive/divvy-trip-data/Copy of 202101-divvy-tripdata-february-2021.csv')\n",
        "case_file9=pd.read_csv('/content/drive/MyDrive/divvy-trip-data/Copy of 202102-divvy-tripdata-march-2021.csv')\n",
        "case_file10=pd.read_csv('/content/drive/MyDrive/divvy-trip-data/Copy of 202103-divvy-tripdata-april-2021.csv')\n",
        "case_file11=pd.read_csv('/content/drive/MyDrive/divvy-trip-data/Copy of 202104-divvy-tripdata-may-2021.csv')\n",
        "case_file12=pd.read_csv('/content/drive/MyDrive/divvy-trip-data/202105-divvy-tripdata-june-2021.csv')"
      ]
    },
    {
      "cell_type": "code",
      "execution_count": 103,
      "metadata": {
        "id": "gJaU7kZre1Mh"
      },
      "outputs": [],
      "source": [
        "case_file=[case_file1,case_file2,case_file3,case_file4,case_file5,case_file6,case_file7,case_file8,case_file9,case_file10,case_file11,case_file12]"
      ]
    },
    {
      "cell_type": "code",
      "execution_count": 104,
      "metadata": {
        "id": "ao0xup0YhHQC"
      },
      "outputs": [],
      "source": [
        "#Merging all the data to a single file\n",
        "df=pd.concat(case_file)"
      ]
    },
    {
      "cell_type": "code",
      "execution_count": 105,
      "metadata": {
        "id": "tbglysrr4ZSc"
      },
      "outputs": [],
      "source": [
        "df.to_csv('google_cyclist.csv')"
      ]
    },
    {
      "cell_type": "code",
      "execution_count": 106,
      "metadata": {
        "id": "CK8iHs1che0x"
      },
      "outputs": [],
      "source": [
        "#converting it into date and time\n",
        "df['started_at1']=pd.to_datetime(df['started_at'])\n",
        "df['ended_at1']=pd.to_datetime(df['ended_at'])\n",
        "df['ride_time']=df['ended_at1']-df['started_at1']\n",
        "df['ride_delta']=pd.to_timedelta(df['ride_time'])"
      ]
    },
    {
      "cell_type": "code",
      "execution_count": 107,
      "metadata": {
        "id": "zq_0D4__KPta",
        "colab": {
          "base_uri": "https://localhost:8080/"
        },
        "outputId": "18bd1288-caef-4ff3-fa5d-3ba119b8b527"
      },
      "outputs": [
        {
          "output_type": "stream",
          "name": "stdout",
          "text": [
            "<class 'pandas.core.frame.DataFrame'>\n",
            "Int64Index: 4073561 entries, 0 to 531632\n",
            "Data columns (total 17 columns):\n",
            " #   Column              Dtype          \n",
            "---  ------              -----          \n",
            " 0   ride_id             object         \n",
            " 1   rideable_type       object         \n",
            " 2   started_at          object         \n",
            " 3   ended_at            object         \n",
            " 4   start_station_name  object         \n",
            " 5   start_station_id    object         \n",
            " 6   end_station_name    object         \n",
            " 7   end_station_id      object         \n",
            " 8   start_lat           float64        \n",
            " 9   start_lng           float64        \n",
            " 10  end_lat             float64        \n",
            " 11  end_lng             float64        \n",
            " 12  member_casual       object         \n",
            " 13  started_at1         datetime64[ns] \n",
            " 14  ended_at1           datetime64[ns] \n",
            " 15  ride_time           timedelta64[ns]\n",
            " 16  ride_delta          timedelta64[ns]\n",
            "dtypes: datetime64[ns](2), float64(4), object(9), timedelta64[ns](2)\n",
            "memory usage: 559.4+ MB\n"
          ]
        }
      ],
      "source": [
        "df.info()"
      ]
    },
    {
      "cell_type": "code",
      "execution_count": 108,
      "metadata": {
        "id": "SGP6JMuwoOdi"
      },
      "outputs": [],
      "source": [
        "#Separating date \n",
        "df['started_date']=[i.split(\" \")[0] for i in df['started_at']]\n",
        "df['started_date']=pd.to_datetime(df['started_date'])"
      ]
    },
    {
      "cell_type": "code",
      "execution_count": 109,
      "metadata": {
        "id": "mabsc8ETppTk"
      },
      "outputs": [],
      "source": [
        "#Week day"
      ]
    },
    {
      "cell_type": "code",
      "execution_count": 110,
      "metadata": {
        "id": "BKh6qQRJuSLt"
      },
      "outputs": [],
      "source": [
        "df['weekday']=df['started_date'].apply(lambda x :x.weekday())"
      ]
    },
    {
      "cell_type": "code",
      "execution_count": 111,
      "metadata": {
        "id": "J1higZwku4li"
      },
      "outputs": [],
      "source": [
        "day_name={1:'Monday',2:'Tuesday',3:'Wednesday',4:'Thuresday',5:'Friday',6:'Saturday',0:'Sunday'}"
      ]
    },
    {
      "cell_type": "code",
      "execution_count": 112,
      "metadata": {
        "id": "ubdI1WjCG7SP"
      },
      "outputs": [],
      "source": [
        "df['week_name'] = df['weekday'].apply(lambda y: day_name[y])"
      ]
    },
    {
      "cell_type": "code",
      "execution_count": 113,
      "metadata": {
        "id": "PM_DRkJrJetg"
      },
      "outputs": [],
      "source": [
        "#to sort the dataframe in ascending order\n",
        "df.sort_values(by=['started_at'],inplace=bool(1),ascending=bool(1))"
      ]
    },
    {
      "cell_type": "code",
      "source": [
        "df.isnull().sum()"
      ],
      "metadata": {
        "colab": {
          "base_uri": "https://localhost:8080/"
        },
        "id": "ARXPgfiFRoxZ",
        "outputId": "0ef3813f-bde3-42da-b193-96c76fd40909"
      },
      "execution_count": 114,
      "outputs": [
        {
          "output_type": "execute_result",
          "data": {
            "text/plain": [
              "ride_id                    0\n",
              "rideable_type              0\n",
              "started_at                 0\n",
              "ended_at                   0\n",
              "start_station_name    201975\n",
              "start_station_id      202601\n",
              "end_station_name      229190\n",
              "end_station_id        229651\n",
              "start_lat                  0\n",
              "start_lng                  0\n",
              "end_lat                 5037\n",
              "end_lng                 5037\n",
              "member_casual              0\n",
              "started_at1                0\n",
              "ended_at1                  0\n",
              "ride_time                  0\n",
              "ride_delta                 0\n",
              "started_date               0\n",
              "weekday                    0\n",
              "week_name                  0\n",
              "dtype: int64"
            ]
          },
          "metadata": {},
          "execution_count": 114
        }
      ]
    },
    {
      "cell_type": "code",
      "execution_count": 115,
      "metadata": {
        "id": "qbHORTcgKA2N"
      },
      "outputs": [],
      "source": [
        "# Drop all rows with any NaN values\n",
        "df1=df.dropna()\n"
      ]
    },
    {
      "cell_type": "code",
      "execution_count": 116,
      "metadata": {
        "id": "TL_lRIiRMoKJ",
        "colab": {
          "base_uri": "https://localhost:8080/"
        },
        "outputId": "dac98e73-ffe0-4ed1-9845-dbb7da6d95d8"
      },
      "outputs": [
        {
          "output_type": "execute_result",
          "data": {
            "text/plain": [
              "ride_id               0\n",
              "rideable_type         0\n",
              "started_at            0\n",
              "ended_at              0\n",
              "start_station_name    0\n",
              "start_station_id      0\n",
              "end_station_name      0\n",
              "end_station_id        0\n",
              "start_lat             0\n",
              "start_lng             0\n",
              "end_lat               0\n",
              "end_lng               0\n",
              "member_casual         0\n",
              "started_at1           0\n",
              "ended_at1             0\n",
              "ride_time             0\n",
              "ride_delta            0\n",
              "started_date          0\n",
              "weekday               0\n",
              "week_name             0\n",
              "dtype: int64"
            ]
          },
          "metadata": {},
          "execution_count": 116
        }
      ],
      "source": [
        "df1.isnull().sum()"
      ]
    },
    {
      "cell_type": "code",
      "execution_count": 117,
      "metadata": {
        "id": "89Ps8LNWVN7u",
        "colab": {
          "base_uri": "https://localhost:8080/"
        },
        "outputId": "ce62b0fc-2be8-4dfb-f3ae-4b0f345de455"
      },
      "outputs": [
        {
          "output_type": "stream",
          "name": "stderr",
          "text": [
            "<ipython-input-117-eb464ddb3c6e>:2: SettingWithCopyWarning: \n",
            "A value is trying to be set on a copy of a slice from a DataFrame.\n",
            "Try using .loc[row_indexer,col_indexer] = value instead\n",
            "\n",
            "See the caveats in the documentation: https://pandas.pydata.org/pandas-docs/stable/user_guide/indexing.html#returning-a-view-versus-a-copy\n",
            "  df1['x']=df1['start_lat']-df1['end_lat']\n",
            "<ipython-input-117-eb464ddb3c6e>:3: SettingWithCopyWarning: \n",
            "A value is trying to be set on a copy of a slice from a DataFrame.\n",
            "Try using .loc[row_indexer,col_indexer] = value instead\n",
            "\n",
            "See the caveats in the documentation: https://pandas.pydata.org/pandas-docs/stable/user_guide/indexing.html#returning-a-view-versus-a-copy\n",
            "  df1['y']=df1['start_lng']-df1['end_lng']\n",
            "<ipython-input-117-eb464ddb3c6e>:4: SettingWithCopyWarning: \n",
            "A value is trying to be set on a copy of a slice from a DataFrame.\n",
            "Try using .loc[row_indexer,col_indexer] = value instead\n",
            "\n",
            "See the caveats in the documentation: https://pandas.pydata.org/pandas-docs/stable/user_guide/indexing.html#returning-a-view-versus-a-copy\n",
            "  df1['Manhattan_distance']=(df1['x']**2+df1['y']**2)**1/2\n"
          ]
        }
      ],
      "source": [
        "#Calculating the Manhattan distance\n",
        "df1['x']=df1['start_lat']-df1['end_lat']\n",
        "df1['y']=df1['start_lng']-df1['end_lng']\n",
        "df1['Manhattan_distance']=(df1['x']**2+df1['y']**2)**1/2"
      ]
    },
    {
      "cell_type": "code",
      "execution_count": 118,
      "metadata": {
        "id": "L035i50JWJMD",
        "colab": {
          "base_uri": "https://localhost:8080/"
        },
        "outputId": "5229aae4-9d67-41fb-8ab0-ae74312480e6"
      },
      "outputs": [
        {
          "output_type": "stream",
          "name": "stderr",
          "text": [
            "<ipython-input-118-ffaf7775935f>:1: SettingWithCopyWarning: \n",
            "A value is trying to be set on a copy of a slice from a DataFrame.\n",
            "Try using .loc[row_indexer,col_indexer] = value instead\n",
            "\n",
            "See the caveats in the documentation: https://pandas.pydata.org/pandas-docs/stable/user_guide/indexing.html#returning-a-view-versus-a-copy\n",
            "  df1['year']=pd.DatetimeIndex(df1['started_at1']).year\n",
            "<ipython-input-118-ffaf7775935f>:2: SettingWithCopyWarning: \n",
            "A value is trying to be set on a copy of a slice from a DataFrame.\n",
            "Try using .loc[row_indexer,col_indexer] = value instead\n",
            "\n",
            "See the caveats in the documentation: https://pandas.pydata.org/pandas-docs/stable/user_guide/indexing.html#returning-a-view-versus-a-copy\n",
            "  df1['month']=pd.DatetimeIndex(df1['started_at1']).month\n"
          ]
        }
      ],
      "source": [
        "df1['year']=pd.DatetimeIndex(df1['started_at1']).year\n",
        "df1['month']=pd.DatetimeIndex(df1['started_at1']).month"
      ]
    },
    {
      "cell_type": "code",
      "execution_count": 119,
      "metadata": {
        "id": "DYXcAG8Mbf8p",
        "colab": {
          "base_uri": "https://localhost:8080/"
        },
        "outputId": "d6122560-2614-4cbc-8953-548b95e856f7"
      },
      "outputs": [
        {
          "output_type": "execute_result",
          "data": {
            "text/plain": [
              "False"
            ]
          },
          "metadata": {},
          "execution_count": 119
        }
      ],
      "source": [
        "df1.duplicated().any()"
      ]
    },
    {
      "cell_type": "markdown",
      "metadata": {
        "id": "bpvQit_OpUbu"
      },
      "source": [
        "***Analyze:***\n",
        "\n",
        "---\n",
        "\n"
      ]
    },
    {
      "cell_type": "code",
      "execution_count": 120,
      "metadata": {
        "id": "5orMZSjSmoHy"
      },
      "outputs": [],
      "source": [
        "df2=df1"
      ]
    },
    {
      "cell_type": "code",
      "execution_count": 121,
      "metadata": {
        "id": "j7ujdwMlp_DH"
      },
      "outputs": [],
      "source": [
        "#To calculate the mean of Ride length of member who has taken the membership\n",
        "membership=df2[df2['member_casual']=='member']\n",
        "membership_mean=membership['Manhattan_distance'].mean()"
      ]
    },
    {
      "cell_type": "code",
      "execution_count": 122,
      "metadata": {
        "id": "7xECxb9UqVaG"
      },
      "outputs": [],
      "source": [
        "#To calculate the mean of Ride length of casual who has not taken the membership\n",
        "casual=df2[df2['member_casual']=='casual']\n",
        "casual_mean=casual['Manhattan_distance'].mean()"
      ]
    },
    {
      "cell_type": "code",
      "execution_count": 123,
      "metadata": {
        "id": "zaUv9vwgrR0T"
      },
      "outputs": [],
      "source": [
        "#To calculate maximum  ride length of who has taken the membership\n",
        "member_max=membership['Manhattan_distance'].max()"
      ]
    },
    {
      "cell_type": "code",
      "execution_count": 124,
      "metadata": {
        "id": "WRXcxNXDsOxh"
      },
      "outputs": [],
      "source": [
        "#To calculate maximum ride length of casual\n",
        "casual_max=casual['Manhattan_distance'].max()"
      ]
    },
    {
      "cell_type": "code",
      "execution_count": 125,
      "metadata": {
        "id": "3nQB6vjM5WXO"
      },
      "outputs": [],
      "source": [
        "count_user_weekday=df2.groupby('week_name')['ride_id'].count()\n",
        "count_user_weekday=count_user_weekday.sort_index()"
      ]
    },
    {
      "cell_type": "code",
      "execution_count": 126,
      "metadata": {
        "id": "fImsiDwg_x1y"
      },
      "outputs": [],
      "source": [
        "# Calculate the number of rides for casual by week_day by adding Count of ride_id to Values\n",
        "count_casual_week_day=df2[df2['member_casual']=='casual'].groupby('week_name')['ride_id'].count()\n",
        "count_casual_week_day=count_casual_week_day.sort_index()"
      ]
    },
    {
      "cell_type": "code",
      "execution_count": 127,
      "metadata": {
        "id": "fJtg_2PmDR82",
        "colab": {
          "base_uri": "https://localhost:8080/"
        },
        "outputId": "f1e5305f-e010-4aba-b329-db81e96e8ab4"
      },
      "outputs": [
        {
          "output_type": "stream",
          "name": "stdout",
          "text": [
            "week_name\n",
            "Friday       333123\n",
            "Monday       306221\n",
            "Saturday     285108\n",
            "Sunday       291780\n",
            "Thuresday    324472\n",
            "Tuesday      322949\n",
            "Wednesday    317472\n",
            "Name: ride_id, dtype: int64\n"
          ]
        }
      ],
      "source": [
        "# Calculate the number of rides for casual by week_day by adding Count of ride_id to Values\n",
        "count_member_week_day=df2[df2['member_casual']=='member'].groupby('week_name')['ride_id'].count()\n",
        "count_member_week_day=count_member_week_day.sort_index()\n",
        "print(count_member_week_day)\n"
      ]
    },
    {
      "cell_type": "code",
      "execution_count": 128,
      "metadata": {
        "id": "3NvY40pZAKlJ",
        "colab": {
          "base_uri": "https://localhost:8080/",
          "height": 390
        },
        "outputId": "09293d5f-9c0f-4abe-cdd0-0477e27e2b9a"
      },
      "outputs": [
        {
          "output_type": "display_data",
          "data": {
            "text/plain": [
              "<Figure size 864x432 with 1 Axes>"
            ],
            "image/png": "[encoded data removed]"
          },
          "metadata": {
            "needs_background": "light"
          }
        }
      ],
      "source": [
        "# To plot graph of Weekday Vs Number Of Rides\n",
        "plt.figure(figsize=(12,6))\n",
        "plt.plot(count_user_weekday.index,count_user_weekday.values)\n",
        "plt.plot(count_casual_week_day.index,count_casual_week_day.values)\n",
        "plt.plot(count_member_week_day.index,count_member_week_day.values)\n",
        "plt.title('Calculate the number of rides for different users by week_day by adding Count of ride_id to Values')\n",
        "plt.show()\n"
      ]
    },
    {
      "cell_type": "code",
      "execution_count": 129,
      "metadata": {
        "id": "wMCAxBKuFcNL"
      },
      "outputs": [],
      "source": [
        "8# Calculate the average ride_length for users by week_day\n",
        "user_average_ride_length=df2.groupby('week_name')['ride_delta'].mean(numeric_only=bool(0))\n"
      ]
    },
    {
      "cell_type": "code",
      "execution_count": 130,
      "metadata": {
        "id": "G8L75XbkHBz7"
      },
      "outputs": [],
      "source": [
        "# Calculate the average ride_length for casual by week_day\n",
        "casual_average_ride_length=df2[df2['member_casual']=='casual'].groupby('week_name')['ride_delta'].mean(numeric_only=bool(0))\n"
      ]
    },
    {
      "cell_type": "code",
      "execution_count": 131,
      "metadata": {
        "id": "qIBAIRZKHndv",
        "colab": {
          "base_uri": "https://localhost:8080/"
        },
        "outputId": "79d46b93-d561-4fb7-9e95-cc14c8eb8ee0"
      },
      "outputs": [
        {
          "output_type": "execute_result",
          "data": {
            "text/plain": [
              "week_name\n",
              "Friday        0 days 00:16:46.515926549\n",
              "Monday      -1 days +23:50:08.601301022\n",
              "Saturday      0 days 00:17:17.020016976\n",
              "Sunday        0 days 00:14:33.251967235\n",
              "Thuresday     0 days 00:14:51.062572425\n",
              "Tuesday       0 days 00:14:29.053946598\n",
              "Wednesday     0 days 00:14:23.018089784\n",
              "Name: ride_delta, dtype: timedelta64[ns]"
            ]
          },
          "metadata": {},
          "execution_count": 131
        }
      ],
      "source": [
        "#calculating thr average ride length of member only\n",
        "member_average_ride_length=df2[df2['member_casual']=='member'].groupby('week_name')['ride_delta'].mean(numeric_only=bool(0))\n",
        "member_average_ride_length\n"
      ]
    },
    {
      "cell_type": "code",
      "execution_count": 132,
      "metadata": {
        "id": "kxG9pWUhIFvS",
        "colab": {
          "base_uri": "https://localhost:8080/",
          "height": 499
        },
        "outputId": "c50e8a65-7d98-457a-931f-6e42387c80d3"
      },
      "outputs": [
        {
          "output_type": "display_data",
          "data": {
            "text/plain": [
              "<Figure size 1080x576 with 1 Axes>"
            ],
            "image/png": "[encoded data removed]"
          },
          "metadata": {
            "needs_background": "light"
          }
        }
      ],
      "source": [
        "# To plot graph of Weekday Vs Average ride length\n",
        "plt.figure(figsize=(15,8))\n",
        "plt.plot((user_average_ride_length)/pd.Timedelta(minutes=1))\n",
        "plt.plot((casual_average_ride_length)/pd.Timedelta(minutes=1))\n",
        "plt.plot((member_average_ride_length)/pd.Timedelta(minutes=1))\n",
        "plt.title(\"The average ride_length for different users by week_day\")\n",
        "plt.legend(['user','casual','member'])\n",
        "labels=[\"Friday\",\"Monday\",\"Saturday\",\"Sunday\",\"Thuresday\",\"Tuesday\",\"Wednesday\"]\n",
        "plt.xticks(user_average_ride_length.index,labels)\n",
        "plt.show()"
      ]
    },
    {
      "cell_type": "code",
      "execution_count": 133,
      "metadata": {
        "id": "nBCOoC5nKIQV"
      },
      "outputs": [],
      "source": [
        "#To extract important features of the dataframe into a new dataframe\n",
        "grand_final=df2[list(df2.columns)]"
      ]
    },
    {
      "cell_type": "markdown",
      "metadata": {
        "id": "uapx7miNOfxm"
      },
      "source": [
        "# **Data analysis**"
      ]
    },
    {
      "cell_type": "code",
      "execution_count": 134,
      "metadata": {
        "id": "1RTvKMIDOldf"
      },
      "outputs": [],
      "source": [
        "# To check the number of users in each type over past 12 months\n",
        "m_c=grand_final['member_casual'].value_counts()"
      ]
    },
    {
      "cell_type": "code",
      "execution_count": 135,
      "metadata": {
        "id": "eNhQsxFFO5Iv",
        "colab": {
          "base_uri": "https://localhost:8080/"
        },
        "outputId": "7a62f563-3485-4cb4-b653-6b90f84b8907"
      },
      "outputs": [
        {
          "output_type": "execute_result",
          "data": {
            "text/plain": [
              "member    2181125\n",
              "casual    1578137\n",
              "Name: member_casual, dtype: int64"
            ]
          },
          "metadata": {},
          "execution_count": 135
        }
      ],
      "source": [
        "m_c.head()"
      ]
    },
    {
      "cell_type": "code",
      "execution_count": 136,
      "metadata": {
        "id": "cxqotx_9QCpE",
        "colab": {
          "base_uri": "https://localhost:8080/",
          "height": 390
        },
        "outputId": "72d8b351-e174-42c2-d4d8-f678a3c6f481"
      },
      "outputs": [
        {
          "output_type": "execute_result",
          "data": {
            "text/plain": [
              "Text(0.5, 1.0, 'percentage of each user')"
            ]
          },
          "metadata": {},
          "execution_count": 136
        },
        {
          "output_type": "display_data",
          "data": {
            "text/plain": [
              "<Figure size 576x432 with 1 Axes>"
            ],
            "image/png": "[encoded data removed]"
          },
          "metadata": {}
        }
      ],
      "source": [
        "# To plot the pie chart of users in each type\n",
        "plt.figure(figsize=(8,6))\n",
        "plt.pie(m_c.values,labels=m_c.index)\n",
        "plt.title('percentage of each user')"
      ]
    },
    {
      "cell_type": "code",
      "execution_count": 137,
      "metadata": {
        "id": "7hwnQ5ICQ8d9"
      },
      "outputs": [],
      "source": [
        "# To check the number of users over years\n",
        "user_over_year=grand_final.groupby('year')['member_casual'].value_counts()"
      ]
    },
    {
      "cell_type": "code",
      "execution_count": 138,
      "metadata": {
        "id": "wjWXtdT9SHnD"
      },
      "outputs": [],
      "source": [
        "# To segregate the number of users into member or casual riders over the years\n",
        "list_year=[]\n",
        "list_x=[]\n",
        "list_y=list(user_over_year.values)\n",
        "for i, j in user_over_year.index:\n",
        "  list_x.append(j)\n",
        "  list_year.append(str(i))"
      ]
    },
    {
      "cell_type": "code",
      "execution_count": 139,
      "metadata": {
        "id": "Q4u1tKldUqk3",
        "colab": {
          "base_uri": "https://localhost:8080/",
          "height": 571
        },
        "outputId": "503f3415-a428-4cb3-c95e-2273b95a4c6e"
      },
      "outputs": [
        {
          "output_type": "stream",
          "name": "stderr",
          "text": [
            "/usr/local/lib/python3.8/dist-packages/seaborn/_decorators.py:36: FutureWarning: Pass the following variables as keyword args: x, y. From version 0.12, the only valid positional argument will be `data`, and passing other arguments without an explicit keyword will result in an error or misinterpretation.\n",
            "  warnings.warn(\n"
          ]
        },
        {
          "output_type": "execute_result",
          "data": {
            "text/plain": [
              "Text(0.5, 1.0, 'count of member and casual rider over the year')"
            ]
          },
          "metadata": {},
          "execution_count": 139
        },
        {
          "output_type": "display_data",
          "data": {
            "text/plain": [
              "<Figure size 1296x576 with 1 Axes>"
            ],
            "image/png": "[encoded data removed]"
          },
          "metadata": {
            "needs_background": "light"
          }
        }
      ],
      "source": [
        "plt.figure(figsize=(18,8))\n",
        "sns.barplot(list_x,list_y,hue=list_year)\n",
        "plt.title('count of member and casual rider over the year')"
      ]
    },
    {
      "cell_type": "code",
      "execution_count": 140,
      "metadata": {
        "id": "5I--1gOuY1Dp"
      },
      "outputs": [],
      "source": [
        "# To check the number of users over months\n",
        "user_over_month=grand_final.groupby('month')['member_casual'].value_counts()"
      ]
    },
    {
      "cell_type": "code",
      "execution_count": 141,
      "metadata": {
        "id": "Xn4VGa2AW-m4"
      },
      "outputs": [],
      "source": [
        "# To segregate the number of users into member or casual riders over the months\n",
        "list_month=[]\n",
        "list_x1=[]\n",
        "list_y1=list(user_over_month.values)\n",
        "for i , j in user_over_month.index :\n",
        "  list_x1.append(j)\n",
        "  list_month.append(str(i))\n"
      ]
    },
    {
      "cell_type": "code",
      "execution_count": 142,
      "metadata": {
        "id": "gji4O-XBX0Ku",
        "colab": {
          "base_uri": "https://localhost:8080/",
          "height": 571
        },
        "outputId": "65ceaf9f-2d39-4e2c-8ef0-e4b18c564241"
      },
      "outputs": [
        {
          "output_type": "stream",
          "name": "stderr",
          "text": [
            "/usr/local/lib/python3.8/dist-packages/seaborn/_decorators.py:36: FutureWarning: Pass the following variables as keyword args: x, y. From version 0.12, the only valid positional argument will be `data`, and passing other arguments without an explicit keyword will result in an error or misinterpretation.\n",
            "  warnings.warn(\n"
          ]
        },
        {
          "output_type": "execute_result",
          "data": {
            "text/plain": [
              "Text(0.5, 1.0, 'Count of Member and Casual Riders over the months')"
            ]
          },
          "metadata": {},
          "execution_count": 142
        },
        {
          "output_type": "display_data",
          "data": {
            "text/plain": [
              "<Figure size 1296x576 with 1 Axes>"
            ],
            "image/png": "[encoded data removed]"
          },
          "metadata": {
            "needs_background": "light"
          }
        }
      ],
      "source": [
        "# Plot count of Member and Casual Riders over the months\n",
        "plt.figure(figsize = (18,8))\n",
        "sns.barplot(list_x1, list_y1, hue = list_month)\n",
        "\n",
        "plt.title(\"Count of Member and Casual Riders over the months\")"
      ]
    },
    {
      "cell_type": "code",
      "execution_count": 143,
      "metadata": {
        "id": "VnNFGxUaaFWi"
      },
      "outputs": [],
      "source": [
        "# To check the number of users for a particulat rideable_type\n",
        "ride_type = grand_final.groupby(\"member_casual\")[\"rideable_type\"].value_counts()"
      ]
    },
    {
      "cell_type": "code",
      "execution_count": 144,
      "metadata": {
        "id": "ZUezbhr2aLlE"
      },
      "outputs": [],
      "source": [
        "# To segregate the number of users into member or casual riders based on ride type\n",
        "list_member = []\n",
        "list_x = []\n",
        "list_y = list(ride_type.values)\n",
        "for i, j in ride_type.index:\n",
        "  list_x.append(j)\n",
        "  list_member.append(str(i))"
      ]
    },
    {
      "cell_type": "code",
      "execution_count": 145,
      "metadata": {
        "id": "4rE-J3pXaT5h",
        "colab": {
          "base_uri": "https://localhost:8080/",
          "height": 572
        },
        "outputId": "1b9c5000-5792-4dcd-dd68-e977d7d8fd6f"
      },
      "outputs": [
        {
          "output_type": "stream",
          "name": "stderr",
          "text": [
            "/usr/local/lib/python3.8/dist-packages/seaborn/_decorators.py:36: FutureWarning: Pass the following variables as keyword args: x, y. From version 0.12, the only valid positional argument will be `data`, and passing other arguments without an explicit keyword will result in an error or misinterpretation.\n",
            "  warnings.warn(\n"
          ]
        },
        {
          "output_type": "execute_result",
          "data": {
            "text/plain": [
              "Text(0.5, 1.0, 'Usage by rideable type')"
            ]
          },
          "metadata": {},
          "execution_count": 145
        },
        {
          "output_type": "display_data",
          "data": {
            "text/plain": [
              "<Figure size 1296x576 with 1 Axes>"
            ],
            "image/png": "[encoded data removed]"
          },
          "metadata": {
            "needs_background": "light"
          }
        }
      ],
      "source": [
        "# To plot number of users into member or casual riders based on ride type\n",
        "plt.figure(figsize = (18,8))\n",
        "sns.barplot(list_x, list_y, hue = list_member)\n",
        "plt.title(\"Usage by rideable type\")\n"
      ]
    },
    {
      "cell_type": "code",
      "execution_count": 146,
      "metadata": {
        "id": "UUyjBQH1b2Ut"
      },
      "outputs": [],
      "source": [
        "#To check the usage of each cycle"
      ]
    },
    {
      "cell_type": "code",
      "execution_count": 147,
      "metadata": {
        "id": "G5p-6eYacF7G"
      },
      "outputs": [],
      "source": [
        "a=df2['rideable_type'].value_counts()"
      ]
    },
    {
      "cell_type": "code",
      "execution_count": 148,
      "metadata": {
        "id": "TkI2Qsg-gI2L",
        "colab": {
          "base_uri": "https://localhost:8080/",
          "height": 517
        },
        "outputId": "055d6e90-1cb4-429a-f277-72b0ea6c4b53"
      },
      "outputs": [
        {
          "output_type": "execute_result",
          "data": {
            "text/plain": [
              "Text(0.5, 1.0, 'Usage of each cycle ')"
            ]
          },
          "metadata": {},
          "execution_count": 148
        },
        {
          "output_type": "display_data",
          "data": {
            "text/plain": [
              "<Figure size 1296x576 with 1 Axes>"
            ],
            "image/png": "[encoded data removed]"
          },
          "metadata": {
            "needs_background": "light"
          }
        }
      ],
      "source": [
        "color=['red','green','yellow']\n",
        "plt.figure(figsize=(18,8))\n",
        "plt.bar(a.index,a.values,color=color)\n",
        "plt.title('Usage of each cycle ')"
      ]
    },
    {
      "cell_type": "code",
      "execution_count": 149,
      "metadata": {
        "id": "v_hRKxmGU1qZ"
      },
      "outputs": [],
      "source": [
        "#Usage of cycle by member over the week\n",
        "wd=df2.groupby('member_casual')['week_name'].value_counts()"
      ]
    },
    {
      "cell_type": "code",
      "execution_count": 150,
      "metadata": {
        "id": "delrNx8cVFkC"
      },
      "outputs": [],
      "source": [
        "lis_member=[]\n",
        "x=[]\n",
        "y=list(wd.values)\n",
        "for i,j in wd.index:\n",
        "  x.append(i)\n",
        "  lis_member.append(str(j))\n",
        "\n",
        "  "
      ]
    },
    {
      "cell_type": "code",
      "execution_count": 151,
      "metadata": {
        "id": "k09nunVqVxcR",
        "colab": {
          "base_uri": "https://localhost:8080/",
          "height": 571
        },
        "outputId": "dd4e8f54-6e8d-4783-abcf-25c0841da1c6"
      },
      "outputs": [
        {
          "output_type": "stream",
          "name": "stderr",
          "text": [
            "/usr/local/lib/python3.8/dist-packages/seaborn/_decorators.py:36: FutureWarning: Pass the following variables as keyword args: x, y. From version 0.12, the only valid positional argument will be `data`, and passing other arguments without an explicit keyword will result in an error or misinterpretation.\n",
            "  warnings.warn(\n"
          ]
        },
        {
          "output_type": "execute_result",
          "data": {
            "text/plain": [
              "Text(0.5, 1.0, 'Usage of cycle by member_casual over the week')"
            ]
          },
          "metadata": {},
          "execution_count": 151
        },
        {
          "output_type": "display_data",
          "data": {
            "text/plain": [
              "<Figure size 1152x576 with 1 Axes>"
            ],
            "image/png": "[encoded data removed]"
          },
          "metadata": {
            "needs_background": "light"
          }
        }
      ],
      "source": [
        "plt.figure(figsize=(16,8))\n",
        "sns.barplot(x,y,hue=lis_member)\n",
        "plt.title('Usage of cycle by member_casual over the week')"
      ]
    },
    {
      "cell_type": "code",
      "execution_count": 152,
      "metadata": {
        "id": "4L6_6Ivzh4Nx"
      },
      "outputs": [],
      "source": [
        "dict4={1:\"January\",2:'Febraury',3:'March',4:'April',5:'May',6:'June',7:'July',8:'August',9:'September',10:'October',11:'November',12:'December'}"
      ]
    },
    {
      "cell_type": "code",
      "execution_count": 153,
      "metadata": {
        "id": "ADe0twLciT9L",
        "colab": {
          "base_uri": "https://localhost:8080/"
        },
        "outputId": "045409a0-7e64-4637-9a9e-cc07dfac77fa"
      },
      "outputs": [
        {
          "output_type": "stream",
          "name": "stderr",
          "text": [
            "<ipython-input-153-fa111288d24b>:1: SettingWithCopyWarning: \n",
            "A value is trying to be set on a copy of a slice from a DataFrame.\n",
            "Try using .loc[row_indexer,col_indexer] = value instead\n",
            "\n",
            "See the caveats in the documentation: https://pandas.pydata.org/pandas-docs/stable/user_guide/indexing.html#returning-a-view-versus-a-copy\n",
            "  df2['month_name']=df2['month'].apply(lambda x : dict4[x])\n"
          ]
        }
      ],
      "source": [
        "df2['month_name']=df2['month'].apply(lambda x : dict4[x])"
      ]
    },
    {
      "cell_type": "code",
      "execution_count": 154,
      "metadata": {
        "id": "yt_kKgo2iobr"
      },
      "outputs": [],
      "source": [
        "monthly_usage=df2.groupby('month_name')['member_casual'].value_counts()"
      ]
    },
    {
      "cell_type": "code",
      "execution_count": 155,
      "metadata": {
        "id": "fg1pR9SujJ29"
      },
      "outputs": [],
      "source": [
        "mem_cas=[]\n",
        "list_x=[]\n",
        "list_y=list(monthly_usage.values)\n",
        "for i,j in monthly_usage.index:\n",
        "  list_x.append(j)\n",
        "  mem_cas.append(i)\n"
      ]
    },
    {
      "cell_type": "code",
      "execution_count": 156,
      "metadata": {
        "id": "gYQug6TZjndY",
        "colab": {
          "base_uri": "https://localhost:8080/",
          "height": 664
        },
        "outputId": "edf99fe5-87d8-4927-b8d4-a175297c5b6c"
      },
      "outputs": [
        {
          "output_type": "stream",
          "name": "stderr",
          "text": [
            "/usr/local/lib/python3.8/dist-packages/seaborn/_decorators.py:36: FutureWarning: Pass the following variables as keyword args: x, y. From version 0.12, the only valid positional argument will be `data`, and passing other arguments without an explicit keyword will result in an error or misinterpretation.\n",
            "  warnings.warn(\n"
          ]
        },
        {
          "output_type": "execute_result",
          "data": {
            "text/plain": [
              "Text(0.5, 1.0, 'Usage of cycle over the month by casual and member')"
            ]
          },
          "metadata": {},
          "execution_count": 156
        },
        {
          "output_type": "display_data",
          "data": {
            "text/plain": [
              "<Figure size 1440x720 with 1 Axes>"
            ],
            "image/png": "[encoded data removed]"
          },
          "metadata": {
            "needs_background": "light"
          }
        }
      ],
      "source": [
        "plt.figure(figsize=(20,10))\n",
        "sns.barplot(list_x,list_y,hue=mem_cas)\n",
        "plt.title('Usage of cycle over the month by casual and member')\n"
      ]
    },
    {
      "cell_type": "code",
      "execution_count": 157,
      "metadata": {
        "id": "Oa3oy8OCjs8o"
      },
      "outputs": [],
      "source": [
        "#total distance in each  month by casual and member"
      ]
    },
    {
      "cell_type": "code",
      "execution_count": 158,
      "metadata": {
        "id": "c38datNykpxL"
      },
      "outputs": [],
      "source": [
        "monthly_distance=df2.groupby('month_name')['Manhattan_distance'].sum()"
      ]
    },
    {
      "cell_type": "code",
      "execution_count": 159,
      "metadata": {
        "id": "9MhcbUy5lI5K",
        "colab": {
          "base_uri": "https://localhost:8080/",
          "height": 586
        },
        "outputId": "70859434-5b75-4e9d-fc6f-65066bde370d"
      },
      "outputs": [
        {
          "output_type": "stream",
          "name": "stderr",
          "text": [
            "/usr/local/lib/python3.8/dist-packages/seaborn/_decorators.py:36: FutureWarning: Pass the following variables as keyword args: x, y. From version 0.12, the only valid positional argument will be `data`, and passing other arguments without an explicit keyword will result in an error or misinterpretation.\n",
            "  warnings.warn(\n"
          ]
        },
        {
          "output_type": "execute_result",
          "data": {
            "text/plain": [
              "Text(0.5, 1.0, 'Total distance travelled by the member')"
            ]
          },
          "metadata": {},
          "execution_count": 159
        },
        {
          "output_type": "display_data",
          "data": {
            "text/plain": [
              "<Figure size 864x576 with 1 Axes>"
            ],
            "image/png": "[encoded data removed]"
          },
          "metadata": {
            "needs_background": "light"
          }
        }
      ],
      "source": [
        "plt.figure(figsize=(12,8))\n",
        "sns.barplot(monthly_distance.index,monthly_distance.values)\n",
        "plt.title('Total distance travelled by the member')"
      ]
    }
  ],
  "metadata": {
    "colab": {
      "provenance": [],
      "mount_file_id": "1ynHagJKrDzRz6CAS3mKb3PVqEtpIv-Qh",
      "authorship_tag": "ABX9TyMjPx49s7dAdQDKzKtcl/a9",
      "include_colab_link": true
    },
    "gpuClass": "standard",
    "kernelspec": {
      "display_name": "Python 3",
      "name": "python3"
    },
    "language_info": {
      "name": "python"
    }
  },
  "nbformat": 4,
  "nbformat_minor": 0
}